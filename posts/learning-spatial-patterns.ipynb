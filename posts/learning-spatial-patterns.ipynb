{
 "cells": [
  {
   "cell_type": "raw",
   "metadata": {},
   "source": [
    "---\n",
    "title: Learning spatial patterns\n",
    "description: The tales of convolutions\n",
    "date: \"2019-09-16\"\n",
    "hide: true\n",
    "toc: true\n",
    "layout: post\n",
    "categories: [deep-learning, convolutions, python, pytorch]\n",
    "image: https://i.imgflip.com/1bc3wo.jpg\n",
    "author: \"<a href='https://twitter.com/FrG_FM'>François-Guillaume Fernandez</a>\"\n",
    "from: markdown+emoji\n",
    "draft: true\n",
    "---"
   ]
  },
  {
   "cell_type": "code",
   "execution_count": null,
   "metadata": {
    "ExecuteTime": {
     "end_time": "2020-03-12T09:57:12.604244Z",
     "start_time": "2020-03-12T09:57:11.955721Z"
    }
   },
   "outputs": [],
   "source": [
    "%reload_ext autoreload\n",
    "%autoreload 2\n",
    "%matplotlib inline"
   ]
  },
  {
   "cell_type": "code",
   "execution_count": null,
   "metadata": {
    "ExecuteTime": {
     "end_time": "2020-03-12T09:57:13.253201Z",
     "start_time": "2020-03-12T09:57:12.668862Z"
    }
   },
   "outputs": [],
   "source": [
    "import torch\n",
    "import torch.nn as nn\n",
    "import torch.nn.functional as F"
   ]
  },
  {
   "cell_type": "code",
   "execution_count": null,
   "metadata": {
    "ExecuteTime": {
     "end_time": "2020-03-12T09:57:13.881734Z",
     "start_time": "2020-03-12T09:57:13.842832Z"
    }
   },
   "outputs": [],
   "source": [
    "nb_batches = 4\n",
    "in_chan, out_chan = 2, 6\n",
    "in_dim = (8,)\n",
    "k_size = (3,)\n",
    "dtype = torch.float32\n",
    "\n",
    "\n",
    "input_1d = torch.rand((nb_batches, in_chan, *in_dim), dtype=dtype)\n",
    "kernel_1d = torch.rand((out_chan, in_chan, *k_size), dtype=dtype)\n",
    "\n",
    "in_dim = (8,) * 2\n",
    "k_size = (3,) * 2\n",
    "\n",
    "input_2d = torch.rand((nb_batches, in_chan, *in_dim), dtype=dtype)\n",
    "kernel_2d = torch.rand((out_chan, in_chan, *k_size), dtype=dtype)\n",
    "\n",
    "in_dim = (8,) * 3\n",
    "k_size = (3,) * 3\n",
    "\n",
    "input_3d = torch.rand((nb_batches, in_chan, *in_dim), dtype=dtype)\n",
    "kernel_3d = torch.rand((out_chan, in_chan, *k_size), dtype=dtype)"
   ]
  },
  {
   "cell_type": "code",
   "execution_count": null,
   "metadata": {
    "ExecuteTime": {
     "end_time": "2020-03-12T10:23:41.446740Z",
     "start_time": "2020-03-12T10:23:41.414052Z"
    }
   },
   "outputs": [],
   "source": [
    "print(input_2d.shape, kernel_2d.shape)\n",
    "# By batch, for each window, flatten / unfold the matmul to perform\n",
    "# B * I * H * W --> B * (I * K1 * K2) * -1\n",
    "tmp_in = F.unfold(input_2d, kernel_2d.shape[-2:])\n",
    "print(tmp_in.shape)"
   ]
  },
  {
   "cell_type": "code",
   "execution_count": null,
   "metadata": {
    "ExecuteTime": {
     "end_time": "2020-03-12T10:03:36.670074Z",
     "start_time": "2020-03-12T10:03:36.638498Z"
    }
   },
   "outputs": [],
   "source": [
    "print(tmp_in.shape)\n",
    "# B * ops_per_window * num_windows --> B * num_windows * ops_per_window\n",
    "tmp_in = tmp_in.transpose(1, 2)\n",
    "print(tmp_in.shape)"
   ]
  },
  {
   "cell_type": "code",
   "execution_count": null,
   "metadata": {
    "ExecuteTime": {
     "end_time": "2020-03-12T10:03:39.409251Z",
     "start_time": "2020-03-12T10:03:39.378731Z"
    }
   },
   "outputs": [],
   "source": [
    "print(kernel_2d.shape)\n",
    "# O * I * K1 * K2 --> O * ops_per_window\n",
    "tmp_k = kernel_2d.view(kernel_2d.shape[0], -1)\n",
    "print(tmp_k.shape)"
   ]
  },
  {
   "cell_type": "code",
   "execution_count": null,
   "metadata": {
    "ExecuteTime": {
     "end_time": "2020-03-12T10:03:40.785202Z",
     "start_time": "2020-03-12T10:03:40.747273Z"
    }
   },
   "outputs": [],
   "source": [
    "print(tmp_k.shape)\n",
    "# O * ops_per_window --> ops_per_window * O\n",
    "tmp_k = tmp_k.t()\n",
    "print(tmp_k.shape)"
   ]
  },
  {
   "cell_type": "code",
   "execution_count": null,
   "metadata": {
    "ExecuteTime": {
     "end_time": "2020-03-12T10:03:41.651313Z",
     "start_time": "2020-03-12T10:03:41.621754Z"
    }
   },
   "outputs": [],
   "source": [
    "print(tmp_in.shape, tmp_k.shape)\n",
    "# B * num_windows * ops_per_window @ ops_per_window * O --> B * num_windows * O\n",
    "tmp = tmp_in.matmul(tmp_k)\n",
    "print(tmp.shape)"
   ]
  },
  {
   "cell_type": "code",
   "execution_count": null,
   "metadata": {
    "ExecuteTime": {
     "end_time": "2020-03-12T10:03:44.090032Z",
     "start_time": "2020-03-12T10:03:44.058733Z"
    }
   },
   "outputs": [],
   "source": [
    "print(tmp.shape)\n",
    "# B * num_windows * O --> B * O * num_windows\n",
    "tmp = tmp.transpose(1, 2)\n",
    "print(tmp.shape)"
   ]
  },
  {
   "cell_type": "code",
   "execution_count": null,
   "metadata": {
    "ExecuteTime": {
     "end_time": "2020-03-12T10:03:44.659917Z",
     "start_time": "2020-03-12T10:03:44.628274Z"
    }
   },
   "outputs": [],
   "source": [
    "print(tmp.shape)\n",
    "# B * O * num_windows --> B * O * H * W\n",
    "tmp = tmp.view(input_2d.shape[0], kernel_2d.shape[0], input_2d.shape[-2] - (kernel_2d.shape[-2] - 1), input_2d.shape[-1] - (kernel_2d.shape[-1] - 1))\n",
    "print(tmp.shape)"
   ]
  },
  {
   "cell_type": "code",
   "execution_count": null,
   "metadata": {
    "ExecuteTime": {
     "end_time": "2020-03-12T10:03:54.995988Z",
     "start_time": "2020-03-12T10:03:54.948497Z"
    }
   },
   "outputs": [],
   "source": [
    "res = F.unfold(input_2d, kernel_2d.shape[-2:]).transpose(1, 2).matmul(kernel_2d.view(kernel_2d.shape[0], -1).t()).transpose(1, 2).view(input_2d.shape[0], kernel_2d.shape[0], input_2d.shape[-2] - (kernel_2d.shape[-2] - 1), input_2d.shape[-1] - (kernel_2d.shape[-1] - 1))\n",
    "print(res.shape)"
   ]
  },
  {
   "cell_type": "code",
   "execution_count": null,
   "metadata": {
    "ExecuteTime": {
     "end_time": "2020-03-12T10:28:08.822562Z",
     "start_time": "2020-03-12T10:28:08.768708Z"
    }
   },
   "outputs": [],
   "source": [
    "%timeit -n 10 _ = F.unfold(input_2d, kernel_2d.shape[-2:]).transpose(1, 2).matmul(kernel_2d.view(kernel_2d.shape[0], -1).t()).transpose(1, 2).view(input_2d.shape[0], kernel_2d.shape[0], input_2d.shape[-2] - (kernel_2d.shape[-2] - 1), input_2d.shape[-1] - (kernel_2d.shape[-1] - 1))"
   ]
  },
  {
   "cell_type": "markdown",
   "metadata": {
    "heading_collapsed": true
   },
   "source": [
    "## SlidingND"
   ]
  },
  {
   "cell_type": "code",
   "execution_count": null,
   "metadata": {
    "ExecuteTime": {
     "end_time": "2020-03-09T21:42:42.856220Z",
     "start_time": "2020-03-09T21:42:42.816386Z"
    },
    "hidden": true
   },
   "outputs": [],
   "source": [
    "def naive_sliding1D(fn, input, kernel, padding=1, dtype=torch.float32):\n",
    "    \"\"\"Apply fn in a convolutioned fashion\n",
    "    \n",
    "    Args:\n",
    "        fn (callable)\n",
    "        input (torch.Tensor[N, I, L]):\n",
    "        kernel (torch.Tensor[O, I, K]):\n",
    "        padding (int, optional):\n",
    "\n",
    "    Returns:\n",
    "        torch.Tensor[N, O, L]\n",
    "    \"\"\"\n",
    "    \n",
    "    if isinstance(padding, int):\n",
    "        padding = (padding, ) * 2 * (kernel.ndim - 2)\n",
    "    \n",
    "    if input.ndim != kernel.ndim:\n",
    "        raise AssertionError(f\"expected (2+N)D input, received {input.ndim}\")\n",
    "    \n",
    "    # N, O, ...\n",
    "    res = torch.zeros((input.shape[0], kernel.shape[0], *input.shape[2:]), dtype=dtype)\n",
    "    _pad = F.pad(input, padding, mode='constant', value=0.)\n",
    "    \n",
    "    for bidx in range(res.shape[0]):\n",
    "        for oidx in range(kernel.shape[0]):\n",
    "            for idx in range(res.shape[-1]):\n",
    "                res[bidx, oidx, idx] = fn(_pad[bidx, ..., idx: idx + kernel.shape[-1]], kernel[oidx, ...])\n",
    "\n",
    "    return res"
   ]
  },
  {
   "cell_type": "code",
   "execution_count": null,
   "metadata": {
    "ExecuteTime": {
     "end_time": "2020-03-09T21:42:42.899536Z",
     "start_time": "2020-03-09T21:42:42.861716Z"
    },
    "hidden": true
   },
   "outputs": [],
   "source": [
    "def mid_sliding1D(fn, input, kernel, padding=1, dtype=torch.float32):\n",
    "    \"\"\"Apply fn in a convolutioned fashion\n",
    "    \n",
    "    Args:\n",
    "        fn (callable)\n",
    "        input (torch.Tensor[N, I, L]):\n",
    "        kernel (torch.Tensor[O, I, K]):\n",
    "        padding (int, optional):\n",
    "\n",
    "    Returns:\n",
    "        torch.Tensor[N, O, L]\n",
    "    \"\"\"\n",
    "    \n",
    "    if isinstance(padding, int):\n",
    "        padding = (padding, ) * 2 * (kernel.ndim - 2)\n",
    "    \n",
    "    if input.ndim != kernel.ndim:\n",
    "        raise AssertionError(f\"expected (2+N)D input, received {input.ndim}\")\n",
    "    \n",
    "    # N, O, ...\n",
    "    res = torch.zeros((input.shape[0], kernel.shape[0], *input.shape[2:]), dtype=dtype)\n",
    "    _pad = F.pad(input, padding, mode='constant', value=0.)\n",
    "    \n",
    "    for idx in range(res.shape[-1]):\n",
    "        # N, O <-- (N, I, K - O, I, K)\n",
    "        res[..., idx] = fn(_pad[..., idx: idx + kernel.shape[-1]], kernel)\n",
    "\n",
    "    return res"
   ]
  },
  {
   "cell_type": "code",
   "execution_count": null,
   "metadata": {
    "ExecuteTime": {
     "end_time": "2020-03-09T21:42:42.949442Z",
     "start_time": "2020-03-09T21:42:42.906248Z"
    },
    "hidden": true
   },
   "outputs": [],
   "source": [
    "def sliding1D(fn, input, kernel, padding=1, dtype=torch.float32):\n",
    "    \"\"\"Apply fn in a convolutioned fashion\n",
    "    \n",
    "    Args:\n",
    "        fn (callable)\n",
    "        input (torch.Tensor[N, I, L]):\n",
    "        kernel (torch.Tensor[O, I, K]):\n",
    "        padding (int, optional):\n",
    "\n",
    "    Returns:\n",
    "        torch.Tensor[N, O, L]\n",
    "    \"\"\"\n",
    "    \n",
    "    if isinstance(padding, int):\n",
    "        padding = (padding, ) * 2 * (kernel.ndim - 2)\n",
    "    \n",
    "    if input.ndim != kernel.ndim:\n",
    "        raise AssertionError(f\"expected (2+N)D input, received {input.ndim}\")\n",
    "    \n",
    "    # N, O, ...\n",
    "    res = torch.zeros((input.shape[0], kernel.shape[0], *input.shape[2:]), dtype=dtype)\n",
    "    _pad = F.pad(input, padding, mode='constant', value=0.)\n",
    "    \n",
    "    for kidx in range(kernel.shape[-1]):\n",
    "        # N, O, L <-- N, I, L @ O, I\n",
    "        res += fn(_pad[..., kidx: kidx + input.shape[-1]], kernel[..., kidx])\n",
    "\n",
    "    return res"
   ]
  },
  {
   "cell_type": "code",
   "execution_count": null,
   "metadata": {
    "ExecuteTime": {
     "end_time": "2020-03-09T21:42:42.996874Z",
     "start_time": "2020-03-09T21:42:42.955135Z"
    },
    "hidden": true
   },
   "outputs": [],
   "source": [
    "def naive_sliding2D(fn, input, kernel, padding=1, dtype=torch.float32):\n",
    "    \"\"\"Apply fn in a convolutioned fashion\n",
    "    \n",
    "    Args:\n",
    "        fn (callable)\n",
    "        input (torch.Tensor[N, I, H, W]):\n",
    "        kernel (torch.Tensor[O, I, K1, K2]):\n",
    "        padding (int, optional):\n",
    "\n",
    "    Returns:\n",
    "        torch.Tensor[N, O, H, W]\n",
    "    \"\"\"\n",
    "    \n",
    "    if isinstance(padding, int):\n",
    "        padding = (padding, ) * 2 * (kernel.ndim - 2)\n",
    "    \n",
    "    if input.ndim != kernel.ndim:\n",
    "        raise AssertionError(f\"expected (2+N)D input, received {input.ndim}\")\n",
    "    \n",
    "    # N, O, ...\n",
    "    res = torch.zeros((input.shape[0], kernel.shape[0], *input.shape[2:]), dtype=dtype)\n",
    "    _pad = F.pad(input, padding, mode='constant', value=0.)\n",
    "    \n",
    "    for bidx in range(res.shape[0]):\n",
    "        for oidx in range(kernel.shape[0]):\n",
    "            for row in range(res.shape[-2]):\n",
    "                for col in range(res.shape[-1]):\n",
    "                    # N, O <-- (N, I, H, W - O, I, K1, K2)\n",
    "                    res[bidx, oidx, row, col] = fn(_pad[bidx, ..., row: row + kernel.shape[-2], col: col + kernel.shape[-1]],\n",
    "                                                   kernel[oidx, ...])\n",
    "\n",
    "    return res"
   ]
  },
  {
   "cell_type": "code",
   "execution_count": null,
   "metadata": {
    "ExecuteTime": {
     "end_time": "2020-03-09T21:42:43.040516Z",
     "start_time": "2020-03-09T21:42:43.001282Z"
    },
    "hidden": true
   },
   "outputs": [],
   "source": [
    "def mid_sliding2D(fn, input, kernel, padding=1, dtype=torch.float32):\n",
    "    \"\"\"Apply fn in a convolutioned fashion\n",
    "    \n",
    "    Args:\n",
    "        fn (callable)\n",
    "        input (torch.Tensor[N, I, H, W]):\n",
    "        kernel (torch.Tensor[O, I, K1, K2]):\n",
    "        padding (int, optional):\n",
    "\n",
    "    Returns:\n",
    "        torch.Tensor[N, O, H, W]\n",
    "    \"\"\"\n",
    "    \n",
    "    if isinstance(padding, int):\n",
    "        padding = (padding, ) * 2 * (kernel.ndim - 2)\n",
    "    \n",
    "    if input.ndim != kernel.ndim:\n",
    "        raise AssertionError(f\"expected (2+N)D input, received {input.ndim}\")\n",
    "    \n",
    "    # N, O, ...\n",
    "    res = torch.zeros((input.shape[0], kernel.shape[0], *input.shape[2:]), dtype=dtype)\n",
    "    _pad = F.pad(input, padding, mode='constant', value=0.)\n",
    "    \n",
    "    # Loop on input spatially\n",
    "    for row in range(res.shape[-2]):\n",
    "        for col in range(res.shape[-1]):\n",
    "            # N, O <-- (N, I, H, W - O, I, K1, K2)\n",
    "            res[..., row, col] = fn(_pad[..., row: row + kernel.shape[-2], col: col + kernel.shape[-1]],\n",
    "                                    kernel)\n",
    "\n",
    "    return res"
   ]
  },
  {
   "cell_type": "code",
   "execution_count": null,
   "metadata": {
    "ExecuteTime": {
     "end_time": "2020-03-09T21:42:43.084245Z",
     "start_time": "2020-03-09T21:42:43.044282Z"
    },
    "hidden": true
   },
   "outputs": [],
   "source": [
    "def sliding2D(fn, input, kernel, padding=1, dtype=torch.float32):\n",
    "    \"\"\"Apply fn in a convolutioned fashion\n",
    "    \n",
    "    Args:\n",
    "        fn (callable)\n",
    "        input (torch.Tensor[N, I, H, W]):\n",
    "        kernel (torch.Tensor[O, I, K1, K2]):\n",
    "        padding (int, optional):\n",
    "\n",
    "    Returns:\n",
    "        torch.Tensor[N, O, H, W]\n",
    "    \"\"\"\n",
    "    \n",
    "    if isinstance(padding, int):\n",
    "        padding = (padding, ) * 2 * (kernel.ndim - 2)\n",
    "    \n",
    "    if input.ndim != kernel.ndim:\n",
    "        raise AssertionError(f\"expected (2+N)D input, received {input.ndim}\")\n",
    "    \n",
    "    # N, O, ...\n",
    "    res = torch.zeros((input.shape[0], kernel.shape[0], *input.shape[2:]), dtype=dtype)\n",
    "    _pad = F.pad(input, padding, mode='constant', value=0.)\n",
    "    \n",
    "    # Loop on kernel spatially\n",
    "    for krow in range(kernel.shape[-2]):\n",
    "        for kcol in range(kernel.shape[-1]):\n",
    "            # N, O, ... <-- N, I, H, W @ O, I\n",
    "            res += fn(_pad[..., krow: krow + input.shape[-2], kcol: kcol + input.shape[-1]], kernel[..., krow, kcol])\n",
    "\n",
    "    return res"
   ]
  },
  {
   "cell_type": "code",
   "execution_count": null,
   "metadata": {
    "ExecuteTime": {
     "end_time": "2020-03-09T21:42:43.133013Z",
     "start_time": "2020-03-09T21:42:43.088922Z"
    },
    "hidden": true
   },
   "outputs": [],
   "source": [
    "def naive_sliding3D(fn, input, kernel, padding=1, dtype=torch.float32):\n",
    "    \"\"\"Apply fn in a convolutioned fashion\n",
    "    \n",
    "    Args:\n",
    "        fn (callable)\n",
    "        input (torch.Tensor[N, I, H, W, D]):\n",
    "        kernel (torch.Tensor[O, I, K1, K2, K3]):\n",
    "        padding (int, optional):\n",
    "\n",
    "    Returns:\n",
    "        torch.Tensor[N, O, H, W, D]\n",
    "    \"\"\"\n",
    "    \n",
    "    if isinstance(padding, int):\n",
    "        padding = (padding, ) * 2 * (kernel.ndim - 2)\n",
    "    \n",
    "    if input.ndim != kernel.ndim:\n",
    "        raise AssertionError(f\"expected (2+N)D input, received {input.ndim}\")\n",
    "    \n",
    "    # N, O, ...\n",
    "    res = torch.zeros((input.shape[0], kernel.shape[0], *input.shape[2:]), dtype=dtype)\n",
    "    _pad = F.pad(input, padding, mode='constant', value=0.)\n",
    "    \n",
    "    for bidx in range(res.shape[0]):\n",
    "        for oidx in range(kernel.shape[0]):\n",
    "            for row in range(res.shape[-3]):\n",
    "                for col in range(res.shape[-2]):\n",
    "                    for depth in range(res.shape[-1]):\n",
    "                        # . <-- (I, K1, K2, K3 - I, K1, K2, K3)\n",
    "                        res[bidx, oidx, row, col] = fn(_pad[bidx, ..., row: row + kernel.shape[-3], col: col + kernel.shape[-2], depth: depth + kernel.shape[-1]],\n",
    "                                                       kernel[oidx, ...])\n",
    "\n",
    "    return res"
   ]
  },
  {
   "cell_type": "code",
   "execution_count": null,
   "metadata": {
    "ExecuteTime": {
     "end_time": "2020-03-09T21:42:43.185124Z",
     "start_time": "2020-03-09T21:42:43.144908Z"
    },
    "hidden": true
   },
   "outputs": [],
   "source": [
    "def mid_sliding3D(fn, input, kernel, padding=1, dtype=torch.float32):\n",
    "    \"\"\"Apply fn in a convolutioned fashion\n",
    "    \n",
    "    Args:\n",
    "        fn (callable)\n",
    "        input (torch.Tensor[N, I, H, W, D]):\n",
    "        kernel (torch.Tensor[O, I, K1, K2, K3]):\n",
    "        padding (int, optional):\n",
    "\n",
    "    Returns:\n",
    "        torch.Tensor[N, O, H, W, D]\n",
    "    \"\"\"\n",
    "    \n",
    "    if isinstance(padding, int):\n",
    "        padding = (padding, ) * 2 * (kernel.ndim - 2)\n",
    "    \n",
    "    if input.ndim != kernel.ndim:\n",
    "        raise AssertionError(f\"expected (2+N)D input, received {input.ndim}\")\n",
    "    \n",
    "    # N, O, ...\n",
    "    res = torch.zeros((input.shape[0], kernel.shape[0], *input.shape[2:]), dtype=dtype)\n",
    "    _pad = F.pad(input, padding, mode='constant', value=0.)\n",
    "    \n",
    "    # Loop on input spatially\n",
    "    for row in range(res.shape[-3]):\n",
    "        for col in range(res.shape[-2]):\n",
    "            for depth in range(res.shape[-1]):\n",
    "                # N, O <-- (N, I, H, W, D - O, I, K1, K2, K3)\n",
    "                res[..., row, col, depth] = fn(_pad[..., row: row + kernel.shape[-3], col: col + kernel.shape[-2], depth: depth + kernel.shape[-1]],\n",
    "                                        kernel)\n",
    "\n",
    "    return res"
   ]
  },
  {
   "cell_type": "code",
   "execution_count": null,
   "metadata": {
    "ExecuteTime": {
     "end_time": "2020-03-09T21:42:43.232787Z",
     "start_time": "2020-03-09T21:42:43.189319Z"
    },
    "hidden": true
   },
   "outputs": [],
   "source": [
    "def sliding3D(fn, input, kernel, padding=1, dtype=torch.float32):\n",
    "    \"\"\"Apply fn in a convolutioned fashion\n",
    "    \n",
    "    Args:\n",
    "        fn (callable)\n",
    "        input (torch.Tensor[N, I, H, W, D]):\n",
    "        kernel (torch.Tensor[O, I, K1, K2, K3]):\n",
    "        padding (int, optional):\n",
    "\n",
    "    Returns:\n",
    "        torch.Tensor[N, O, H, W, D]\n",
    "    \"\"\"\n",
    "    \n",
    "    if isinstance(padding, int):\n",
    "        padding = (padding, ) * 2 * (kernel.ndim - 2)\n",
    "    \n",
    "    if input.ndim != kernel.ndim:\n",
    "        raise AssertionError(f\"expected (2+N)D input, received {input.ndim}\")\n",
    "    \n",
    "    # N, O, ...\n",
    "    res = torch.zeros((input.shape[0], kernel.shape[0], *input.shape[2:]), dtype=dtype)\n",
    "    _pad = F.pad(input, padding, mode='constant', value=0.)\n",
    "    \n",
    "    # Loop on kernel spatially\n",
    "    for krow in range(kernel.shape[-3]):\n",
    "        for kcol in range(kernel.shape[-2]):\n",
    "            for kdep in range(kernel.shape[-1]):\n",
    "                # N, O, ... <-- N, I, H, W @ O, I\n",
    "                res += fn(_pad[..., krow: krow + input.shape[-3], kcol: kcol + input.shape[-2], kdep: kdep + input.shape[-1]],\n",
    "                          kernel[..., krow, kcol, kdep])\n",
    "\n",
    "    return res"
   ]
  },
  {
   "cell_type": "markdown",
   "metadata": {
    "heading_collapsed": true
   },
   "source": [
    "## OpND"
   ]
  },
  {
   "cell_type": "code",
   "execution_count": null,
   "metadata": {
    "ExecuteTime": {
     "end_time": "2020-03-09T21:42:43.267431Z",
     "start_time": "2020-03-09T21:42:43.236954Z"
    },
    "hidden": true
   },
   "outputs": [],
   "source": [
    "def naive_opND(fn, input, kernel):\n",
    "    \"\"\"Apply Conv1D locally\n",
    "    \n",
    "    Args:\n",
    "        input (torch.Tensor[I, K1, ..., Kn]):\n",
    "        kernel (torch.Tensor[I, K1, ..., Kn]):\n",
    "\n",
    "    Returns:\n",
    "        torch.Tensor[]\n",
    "    \"\"\"\n",
    "\n",
    "    if input.shape != kernel.shape:\n",
    "        raise AssertionError(\"expected input and kernel to have identical shape\")\n",
    "    \n",
    "    return fn(input, kernel)"
   ]
  },
  {
   "cell_type": "code",
   "execution_count": null,
   "metadata": {
    "ExecuteTime": {
     "end_time": "2020-03-09T21:42:43.302714Z",
     "start_time": "2020-03-09T21:42:43.272230Z"
    },
    "hidden": true
   },
   "outputs": [],
   "source": [
    "def mid_opND(fn, input, kernel):\n",
    "    \"\"\"Apply Conv1D locally\n",
    "    \n",
    "    Args:\n",
    "        input (torch.Tensor[N, I, K1, ..., Kn]):\n",
    "        kernel (torch.Tensor[O, I, K1, ..., Kn]):\n",
    "\n",
    "    Returns:\n",
    "        torch.Tensor[N, O]\n",
    "    \"\"\"\n",
    "\n",
    "    if input.ndim != kernel.ndim:\n",
    "        raise AssertionError(\"wrong number of dimensions\")\n",
    "    if input.shape[1:] != kernel.shape[1:]:\n",
    "        raise AssertionError(\"wrong shapes\")\n",
    "    \n",
    "    return fn(input.unsqueeze(1), kernel.unsqueeze(0))"
   ]
  },
  {
   "cell_type": "code",
   "execution_count": null,
   "metadata": {
    "ExecuteTime": {
     "end_time": "2020-03-09T21:42:43.337865Z",
     "start_time": "2020-03-09T21:42:43.306949Z"
    },
    "hidden": true
   },
   "outputs": [],
   "source": [
    "def opND(fn, input, kernel, n):\n",
    "    \"\"\"Apply Conv1D locally\n",
    "    \n",
    "    Args:\n",
    "        input (torch.Tensor[N, I, ...]):\n",
    "        kernel (torch.Tensor[O, I]):\n",
    "\n",
    "    Returns:\n",
    "        torch.Tensor[N, O, ...]\n",
    "    \"\"\"\n",
    "    \n",
    "    if input.ndim != kernel.ndim + n:\n",
    "        raise AssertionError(\"wrong number of dimensions\")\n",
    "    if input.shape[1] != kernel.shape[1]:\n",
    "        raise AssertionError(\"expected input and kernel to share same second axis size\")\n",
    "    \n",
    "    return fn(input.unsqueeze(1), kernel.unsqueeze(0)[(...,) + (None,) * n])"
   ]
  },
  {
   "cell_type": "markdown",
   "metadata": {},
   "source": [
    "## ConvND"
   ]
  },
  {
   "cell_type": "code",
   "execution_count": null,
   "metadata": {
    "ExecuteTime": {
     "end_time": "2020-03-09T21:42:43.380436Z",
     "start_time": "2020-03-09T21:42:43.341767Z"
    }
   },
   "outputs": [],
   "source": [
    "def n_convND(a, b):\n",
    "    \"\"\"Apply ConvND locally\n",
    "    \n",
    "    Args:\n",
    "        a (torch.Tensor[I, K1, ..., Kn]):\n",
    "        b (torch.Tensor[I, K1, ..., Kn]):\n",
    "\n",
    "    Returns:\n",
    "        torch.Tensor[1]\n",
    "    \"\"\"\n",
    "    return a.mul(b).sum()\n",
    "\n",
    "\n",
    "def m_convND(a, b):\n",
    "    \"\"\"Apply ConvND locally\n",
    "    \n",
    "    Args:\n",
    "        a (torch.Tensor[N, O, I, K1, ..., Kn]):\n",
    "        b (torch.Tensor[N, O, I, K1, ..., Kn]):\n",
    "\n",
    "    Returns:\n",
    "        torch.Tensor[N, O]\n",
    "    \"\"\"\n",
    "    return a.mul(b).flatten(2).sum(2)\n",
    "\n",
    "\n",
    "def convND(a, b):\n",
    "    \"\"\"Apply ConvND locally\n",
    "    \n",
    "    Args:\n",
    "        a (torch.Tensor[N, 1, I, ...]):\n",
    "        b (torch.Tensor[1, O, I, ...]):\n",
    "\n",
    "    Returns:\n",
    "        torch.Tensor[N, O, ...]\n",
    "    \"\"\"\n",
    "    return a.mul(b).sum(2)"
   ]
  },
  {
   "cell_type": "code",
   "execution_count": null,
   "metadata": {
    "ExecuteTime": {
     "end_time": "2020-03-09T21:42:43.413856Z",
     "start_time": "2020-03-09T21:42:43.384543Z"
    }
   },
   "outputs": [],
   "source": [
    "def naive_convND(input, kernel):\n",
    "    return naive_opND(n_convND, input, kernel)\n",
    "\n",
    "def mid_convND(input, kernel):\n",
    "    return mid_opND(m_convND, input, kernel)\n",
    "\n",
    "def conv1D(input, kernel):\n",
    "    return opND(convND, input, kernel, n=1)"
   ]
  },
  {
   "cell_type": "code",
   "execution_count": null,
   "metadata": {
    "ExecuteTime": {
     "end_time": "2020-03-09T21:42:44.181785Z",
     "start_time": "2020-03-09T21:42:43.426296Z"
    }
   },
   "outputs": [],
   "source": [
    "%timeit -n 10 _ = naive_sliding1D(naive_convND, input_1d, kernel_1d)\n",
    "%timeit -n 10 _ = mid_sliding1D(mid_convND, input_1d, kernel_1d)\n",
    "%timeit -n 10 _ = sliding1D(conv1D, input_1d, kernel_1d)\n",
    "%timeit -n 10 _ = F.conv1d(input_1d, kernel_1d, padding=1)"
   ]
  },
  {
   "cell_type": "code",
   "execution_count": null,
   "metadata": {
    "ExecuteTime": {
     "end_time": "2020-03-09T21:42:44.207574Z",
     "start_time": "2020-03-09T21:42:44.184291Z"
    }
   },
   "outputs": [],
   "source": [
    "def conv2D(input, kernel):\n",
    "    return opND(convND, input, kernel, n=2)"
   ]
  },
  {
   "cell_type": "code",
   "execution_count": null,
   "metadata": {
    "ExecuteTime": {
     "end_time": "2020-03-09T21:42:49.124962Z",
     "start_time": "2020-03-09T21:42:44.209357Z"
    }
   },
   "outputs": [],
   "source": [
    "%timeit -n 10 _ = naive_sliding2D(naive_convND, input_2d, kernel_2d)\n",
    "%timeit -n 10 _ = mid_sliding2D(mid_convND, input_2d, kernel_2d)\n",
    "%timeit -n 10 _ = sliding2D(conv2D, input_2d, kernel_2d)\n",
    "%timeit -n 10 _ = F.conv2d(input_2d, kernel_2d, padding=1)"
   ]
  },
  {
   "cell_type": "code",
   "execution_count": null,
   "metadata": {
    "ExecuteTime": {
     "end_time": "2020-03-09T21:42:49.141581Z",
     "start_time": "2020-03-09T21:42:49.127482Z"
    }
   },
   "outputs": [],
   "source": [
    "def conv3D(input, kernel):\n",
    "    return opND(convND, input, kernel, n=3)"
   ]
  },
  {
   "cell_type": "code",
   "execution_count": null,
   "metadata": {
    "ExecuteTime": {
     "end_time": "2020-03-09T21:43:37.843617Z",
     "start_time": "2020-03-09T21:42:49.143784Z"
    }
   },
   "outputs": [],
   "source": [
    "%timeit -n 10 _ = naive_sliding3D(naive_convND, input_3d, kernel_3d)\n",
    "%timeit -n 10 _ = mid_sliding3D(mid_convND, input_3d, kernel_3d)\n",
    "%timeit -n 10 _ = sliding3D(conv3D, input_3d, kernel_3d)\n",
    "%timeit -n 10 _ = F.conv3d(input_3d, kernel_3d, padding=1)"
   ]
  },
  {
   "cell_type": "markdown",
   "metadata": {
    "heading_collapsed": true
   },
   "source": [
    "## AdderND"
   ]
  },
  {
   "cell_type": "code",
   "execution_count": null,
   "metadata": {
    "ExecuteTime": {
     "end_time": "2020-03-09T21:43:37.873596Z",
     "start_time": "2020-03-09T21:43:37.850375Z"
    },
    "hidden": true
   },
   "outputs": [],
   "source": [
    "def n_adderND(a, b):\n",
    "    \"\"\"Apply ConvND locally\n",
    "    \n",
    "    Args:\n",
    "        a (torch.Tensor[I, K1, ..., Kn]):\n",
    "        b (torch.Tensor[I, K1, ..., Kn]):\n",
    "\n",
    "    Returns:\n",
    "        torch.Tensor[1]\n",
    "    \"\"\"\n",
    "    return a.sub(b).abs_().sum()\n",
    "\n",
    "\n",
    "def m_adderND(a, b):\n",
    "    \"\"\"Apply ConvND locally\n",
    "    \n",
    "    Args:\n",
    "        a (torch.Tensor[N, O, I, K1, ..., Kn]):\n",
    "        b (torch.Tensor[N, O, I, K1, ..., Kn]):\n",
    "\n",
    "    Returns:\n",
    "        torch.Tensor[N, O]\n",
    "    \"\"\"\n",
    "    return a.sub(b).abs_().flatten(2).sum(2)\n",
    "\n",
    "\n",
    "def adderND(a, b):\n",
    "    \"\"\"Apply AdderND locally\n",
    "    \n",
    "    Args:\n",
    "        a (torch.Tensor[N, 1, I, ...]):\n",
    "        b (torch.Tensor[1, O, I, ...]):\n",
    "\n",
    "    Returns:\n",
    "        torch.Tensor[N, O, ...]\n",
    "    \"\"\"\n",
    "\n",
    "    return a.sub(b).abs_().sum(2)"
   ]
  },
  {
   "cell_type": "code",
   "execution_count": null,
   "metadata": {
    "ExecuteTime": {
     "end_time": "2020-03-09T21:43:37.893212Z",
     "start_time": "2020-03-09T21:43:37.875726Z"
    },
    "hidden": true
   },
   "outputs": [],
   "source": [
    "def naive_adderND(input, kernel):\n",
    "    return naive_opND(n_adderND, input, kernel)\n",
    "\n",
    "def mid_adderND(input, kernel):\n",
    "    return mid_opND(m_adderND, input, kernel)\n",
    "\n",
    "def adder1D(input, kernel):\n",
    "    return opND(adderND, input, kernel, n=1)"
   ]
  },
  {
   "cell_type": "code",
   "execution_count": null,
   "metadata": {
    "ExecuteTime": {
     "end_time": "2020-03-09T21:43:38.605955Z",
     "start_time": "2020-03-09T21:43:37.895416Z"
    },
    "hidden": true
   },
   "outputs": [],
   "source": [
    "%timeit -n 10 _ = naive_sliding1D(naive_adderND, input_1d, kernel_1d)\n",
    "%timeit -n 10 _ = mid_sliding1D(mid_adderND, input_1d, kernel_1d)\n",
    "%timeit -n 10 _ = sliding1D(conv1D, input_1d, kernel_1d)"
   ]
  },
  {
   "cell_type": "code",
   "execution_count": null,
   "metadata": {
    "ExecuteTime": {
     "end_time": "2020-03-09T21:43:38.621723Z",
     "start_time": "2020-03-09T21:43:38.608122Z"
    },
    "hidden": true
   },
   "outputs": [],
   "source": [
    "def adder2D(input, kernel):\n",
    "    return opND(adderND, input, kernel, n=2)"
   ]
  },
  {
   "cell_type": "code",
   "execution_count": null,
   "metadata": {
    "ExecuteTime": {
     "end_time": "2020-03-09T21:43:44.131432Z",
     "start_time": "2020-03-09T21:43:38.623670Z"
    },
    "hidden": true
   },
   "outputs": [],
   "source": [
    "%timeit -n 10 _ = naive_sliding2D(naive_adderND, input_2d, kernel_2d)\n",
    "%timeit -n 10 _ = mid_sliding2D(mid_adderND, input_2d, kernel_2d)\n",
    "%timeit -n 10 _ = sliding2D(adder2D, input_2d, kernel_2d)"
   ]
  },
  {
   "cell_type": "code",
   "execution_count": null,
   "metadata": {
    "ExecuteTime": {
     "end_time": "2020-03-09T21:43:44.148122Z",
     "start_time": "2020-03-09T21:43:44.133362Z"
    },
    "hidden": true
   },
   "outputs": [],
   "source": [
    "def adder3D(input, kernel):\n",
    "    return opND(adderND, input, kernel, n=3)"
   ]
  },
  {
   "cell_type": "code",
   "execution_count": null,
   "metadata": {
    "ExecuteTime": {
     "end_time": "2020-03-09T21:44:35.890294Z",
     "start_time": "2020-03-09T21:43:44.150100Z"
    },
    "hidden": true
   },
   "outputs": [],
   "source": [
    "%timeit -n 10 _ = naive_sliding3D(naive_adderND, input_3d, kernel_3d)\n",
    "%timeit -n 10 _ = mid_sliding3D(mid_adderND, input_3d, kernel_3d)\n",
    "%timeit -n 10 _ = sliding3D(adder3D, input_3d, kernel_3d)"
   ]
  },
  {
   "cell_type": "markdown",
   "metadata": {
    "heading_collapsed": true
   },
   "source": [
    "## CosimND"
   ]
  },
  {
   "cell_type": "code",
   "execution_count": null,
   "metadata": {
    "ExecuteTime": {
     "end_time": "2020-03-09T21:44:35.910498Z",
     "start_time": "2020-03-09T21:44:35.892226Z"
    },
    "hidden": true
   },
   "outputs": [],
   "source": [
    "def n_cosimND(a, b, q=0):\n",
    "    \"\"\"Apply ConvND locally\n",
    "    \n",
    "    Args:\n",
    "        a (torch.Tensor[I, K1, ..., Kn]):\n",
    "        b (torch.Tensor[I, K1, ..., Kn]):\n",
    "\n",
    "    Returns:\n",
    "        torch.Tensor[1]\n",
    "    \"\"\"\n",
    "    return n_convND(a, b).div_(a.norm().add_(q) * b.norm().add_(q))\n",
    "\n",
    "\n",
    "def m_cosimND(a, b, q=0):\n",
    "    \"\"\"Apply ConvND locally\n",
    "    \n",
    "    Args:\n",
    "        a (torch.Tensor[N, O, I, K1, ..., Kn]):\n",
    "        b (torch.Tensor[N, O, I, K1, ..., Kn]):\n",
    "\n",
    "    Returns:\n",
    "        torch.Tensor[N, O]\n",
    "    \"\"\"\n",
    "    return m_convND(a, b).div_(a.pow(2).flatten(2).sum(2).add_(q) * b.pow(2).flatten(2).sum(2).add_(q))\n",
    "\n",
    "def cosimND(a, b, q=0):\n",
    "    \"\"\"Apply CosimND locally\n",
    "    \n",
    "    Args:\n",
    "        a (torch.Tensor[N, 1, I, ...]):\n",
    "        b (torch.Tensor[1, O, I, ...]):\n",
    "\n",
    "    Returns:\n",
    "        torch.Tensor[N, O, ...]\n",
    "    \"\"\"\n",
    "\n",
    "    return convND(a, b).div_(a.norm(dim=2).add_(q) * b.norm(dim=2).add_(q))"
   ]
  },
  {
   "cell_type": "code",
   "execution_count": null,
   "metadata": {
    "ExecuteTime": {
     "end_time": "2020-03-09T21:44:35.927485Z",
     "start_time": "2020-03-09T21:44:35.912243Z"
    },
    "hidden": true
   },
   "outputs": [],
   "source": [
    "def naive_cosimND(input, kernel):\n",
    "    return naive_opND(n_cosimND, input, kernel)\n",
    "\n",
    "def mid_cosimND(input, kernel):\n",
    "    return mid_opND(m_cosimND, input, kernel)\n",
    "\n",
    "def cosim1D(input, kernel):\n",
    "    return opND(cosimND, input, kernel, n=1)"
   ]
  },
  {
   "cell_type": "code",
   "execution_count": null,
   "metadata": {
    "ExecuteTime": {
     "end_time": "2020-03-09T21:44:37.477166Z",
     "start_time": "2020-03-09T21:44:35.929262Z"
    },
    "hidden": true
   },
   "outputs": [],
   "source": [
    "%timeit -n 10 _ = naive_sliding1D(naive_cosimND, input_1d, kernel_1d)\n",
    "%timeit -n 10 _ = mid_sliding1D(mid_cosimND, input_1d, kernel_1d)\n",
    "%timeit -n 10 _ = sliding1D(cosim1D, input_1d, kernel_1d)"
   ]
  },
  {
   "cell_type": "code",
   "execution_count": null,
   "metadata": {
    "ExecuteTime": {
     "end_time": "2020-03-09T21:44:37.494148Z",
     "start_time": "2020-03-09T21:44:37.479628Z"
    },
    "hidden": true
   },
   "outputs": [],
   "source": [
    "def cosim2D(input, kernel):\n",
    "    return opND(cosimND, input, kernel, n=2)"
   ]
  },
  {
   "cell_type": "code",
   "execution_count": null,
   "metadata": {
    "ExecuteTime": {
     "end_time": "2020-03-09T21:44:48.726957Z",
     "start_time": "2020-03-09T21:44:37.496183Z"
    },
    "hidden": true
   },
   "outputs": [],
   "source": [
    "%timeit -n 10 _ = naive_sliding2D(naive_cosimND, input_2d, kernel_2d)\n",
    "%timeit -n 10 _ = mid_sliding2D(mid_cosimND, input_2d, kernel_2d)\n",
    "%timeit -n 10 _ = sliding2D(cosim2D, input_2d, kernel_2d)"
   ]
  },
  {
   "cell_type": "code",
   "execution_count": null,
   "metadata": {
    "ExecuteTime": {
     "end_time": "2020-03-09T21:44:48.742616Z",
     "start_time": "2020-03-09T21:44:48.728975Z"
    },
    "hidden": true
   },
   "outputs": [],
   "source": [
    "def cosim3D(input, kernel):\n",
    "    return opND(cosimND, input, kernel, n=3)"
   ]
  },
  {
   "cell_type": "code",
   "execution_count": null,
   "metadata": {
    "ExecuteTime": {
     "end_time": "2020-03-09T21:46:30.779310Z",
     "start_time": "2020-03-09T21:44:48.744510Z"
    },
    "hidden": true
   },
   "outputs": [],
   "source": [
    "%timeit -n 10 _ = naive_sliding3D(naive_cosimND, input_3d, kernel_3d)\n",
    "%timeit -n 10 _ = mid_sliding3D(mid_cosimND, input_3d, kernel_3d)\n",
    "%timeit -n 10 _ = sliding3D(cosim3D, input_3d, kernel_3d)"
   ]
  },
  {
   "cell_type": "markdown",
   "metadata": {
    "heading_collapsed": true
   },
   "source": [
    "## SharpCosimND"
   ]
  },
  {
   "cell_type": "code",
   "execution_count": null,
   "metadata": {
    "ExecuteTime": {
     "end_time": "2020-03-09T21:46:30.802870Z",
     "start_time": "2020-03-09T21:46:30.781198Z"
    },
    "hidden": true
   },
   "outputs": [],
   "source": [
    "def n_scosimND(a, b, p=2, q=1e-3):\n",
    "    \"\"\"Apply ConvND locally\n",
    "    \n",
    "    Args:\n",
    "        a (torch.Tensor[I, K1, ..., Kn]):\n",
    "        b (torch.Tensor[I, K1, ..., Kn]):\n",
    "\n",
    "    Returns:\n",
    "        torch.Tensor[1]\n",
    "    \"\"\"\n",
    "    num = n_convND(a, b)\n",
    "    return torch.sign(num) * num.div_(a.norm().add_(q) * b.norm().add_(q)).pow_(p)\n",
    "\n",
    "\n",
    "def m_scosimND(a, b, p=2, q=1e-3):\n",
    "    \"\"\"Apply ConvND locally\n",
    "    \n",
    "    Args:\n",
    "        a (torch.Tensor[N, O, I, K1, ..., Kn]):\n",
    "        b (torch.Tensor[N, O, I, K1, ..., Kn]):\n",
    "\n",
    "    Returns:\n",
    "        torch.Tensor[N, O]\n",
    "    \"\"\"\n",
    "    num = m_convND(a, b)\n",
    "    return torch.sign(num) * num.div_(a.pow(2).flatten(2).sum(2).add_(q) * b.pow(2).flatten(2).sum(2).add_(q)).pow_(p)\n",
    "\n",
    "\n",
    "def scosimND(a, b, p=2, q=1e-3):\n",
    "    \"\"\"Apply Conv1D locally\n",
    "    \n",
    "    Args:\n",
    "        a (torch.Tensor[N, 1, I, ...]):\n",
    "        b (torch.Tensor[1, O, I, ...]):\n",
    "\n",
    "    Returns:\n",
    "        torch.Tensor[N, O, ...]\n",
    "    \"\"\"\n",
    "\n",
    "    num = convND(a, b)\n",
    "    return torch.sign(num) * num.div_(a.norm(dim=2).add_(q) * b.norm(dim=2).add_(q)).pow_(p)"
   ]
  },
  {
   "cell_type": "code",
   "execution_count": null,
   "metadata": {
    "ExecuteTime": {
     "end_time": "2020-03-09T21:46:30.861535Z",
     "start_time": "2020-03-09T21:46:30.808829Z"
    },
    "hidden": true
   },
   "outputs": [],
   "source": [
    "def naive_scosimND(input, kernel):\n",
    "    return naive_opND(n_scosimND, input, kernel)\n",
    "\n",
    "def mid_scosimND(input, kernel):\n",
    "    return mid_opND(m_scosimND, input, kernel)\n",
    "\n",
    "def scosim1D(input, kernel):\n",
    "    return opND(scosimND, input, kernel, n=1)"
   ]
  },
  {
   "cell_type": "code",
   "execution_count": null,
   "metadata": {
    "ExecuteTime": {
     "end_time": "2020-03-09T21:46:32.569846Z",
     "start_time": "2020-03-09T21:46:30.869546Z"
    },
    "hidden": true
   },
   "outputs": [],
   "source": [
    "%timeit -n 10 _ = naive_sliding1D(naive_scosimND, input_1d, kernel_1d)\n",
    "%timeit -n 10 _ = mid_sliding1D(mid_scosimND, input_1d, kernel_1d)\n",
    "%timeit -n 10 _ = sliding1D(scosim1D, input_1d, kernel_1d)"
   ]
  },
  {
   "cell_type": "code",
   "execution_count": null,
   "metadata": {
    "ExecuteTime": {
     "end_time": "2020-03-09T21:46:32.590661Z",
     "start_time": "2020-03-09T21:46:32.572390Z"
    },
    "hidden": true
   },
   "outputs": [],
   "source": [
    "def scosim2D(input, kernel):\n",
    "    return opND(scosimND, input, kernel, n=2)"
   ]
  },
  {
   "cell_type": "code",
   "execution_count": null,
   "metadata": {
    "ExecuteTime": {
     "end_time": "2020-03-09T21:46:45.830039Z",
     "start_time": "2020-03-09T21:46:32.593807Z"
    },
    "hidden": true
   },
   "outputs": [],
   "source": [
    "%timeit -n 10 _ = naive_sliding2D(naive_scosimND, input_2d, kernel_2d)\n",
    "%timeit -n 10 _ = mid_sliding2D(mid_scosimND, input_2d, kernel_2d)\n",
    "%timeit -n 10 _ = sliding2D(scosim2D, input_2d, kernel_2d)"
   ]
  },
  {
   "cell_type": "code",
   "execution_count": null,
   "metadata": {
    "ExecuteTime": {
     "end_time": "2020-03-09T21:46:45.848403Z",
     "start_time": "2020-03-09T21:46:45.832857Z"
    },
    "hidden": true
   },
   "outputs": [],
   "source": [
    "def scosim3D(input, kernel):\n",
    "    return opND(scosimND, input, kernel, n=3)"
   ]
  },
  {
   "cell_type": "code",
   "execution_count": null,
   "metadata": {
    "ExecuteTime": {
     "end_time": "2020-03-09T21:48:43.875456Z",
     "start_time": "2020-03-09T21:46:45.850396Z"
    },
    "hidden": true
   },
   "outputs": [],
   "source": [
    "%timeit -n 10 _ = naive_sliding3D(naive_scosimND, input_3d, kernel_3d)\n",
    "%timeit -n 10 _ = mid_sliding3D(mid_scosimND, input_3d, kernel_3d)\n",
    "%timeit -n 10 _ = sliding3D(scosim3D, input_3d, kernel_3d)"
   ]
  }
 ],
 "metadata": {
  "kernelspec": {
   "display_name": "Python 3 (ipykernel)",
   "language": "python",
   "name": "python3"
  },
  "language_info": {
   "codemirror_mode": {
    "name": "ipython",
    "version": 3
   },
   "file_extension": ".py",
   "mimetype": "text/x-python",
   "name": "python",
   "nbconvert_exporter": "python",
   "pygments_lexer": "ipython3",
   "version": "3.8.13"
  },
  "varInspector": {
   "cols": {
    "lenName": 16,
    "lenType": 16,
    "lenVar": 40
   },
   "kernels_config": {
    "python": {
     "delete_cmd_postfix": "",
     "delete_cmd_prefix": "del ",
     "library": "var_list.py",
     "varRefreshCmd": "print(var_dic_list())"
    },
    "r": {
     "delete_cmd_postfix": ") ",
     "delete_cmd_prefix": "rm(",
     "library": "var_list.r",
     "varRefreshCmd": "cat(var_dic_list()) "
    }
   },
   "types_to_exclude": [
    "module",
    "function",
    "builtin_function_or_method",
    "instance",
    "_Feature"
   ],
   "window_display": false
  }
 },
 "nbformat": 4,
 "nbformat_minor": 2
}
