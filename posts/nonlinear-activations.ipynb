{
 "cells": [
  {
   "cell_type": "raw",
   "metadata": {},
   "source": [
    "---\n",
    "title: A story of approximation\n",
    "description: Introducing non-linearities into neural networks\n",
    "date: \"2020-01-04\"\n",
    "hide: true\n",
    "toc: true\n",
    "layout: post\n",
    "categories: [deep-learning, activations, python, pytorch]\n",
    "image: https://media.giphy.com/media/10nUdjHP9usQJG/giphy.gif\n",
    "author: \"<a href='https://twitter.com/FrG_FM'>François-Guillaume Fernandez</a>\"\n",
    "from: markdown+emoji\n",
    "draft: true\n",
    "---"
   ]
  },
  {
   "cell_type": "markdown",
   "metadata": {},
   "source": [
    "# Where do we start\n",
    "\n",
    "WHY\n",
    "Non-linearity to use Universal approximation theorum http://mcneela.github.io/machine_learning/2017/03/21/Universal-Approximation-Theorem.html\n",
    "\n",
    "Criteria:\n",
    "symmetric\n",
    "monotonous\n",
    "vanishing gradient\n",
    "output not zero centered (optimization harder)\n",
    "saturation --> vanishing gradient\n",
    "\n",
    "order of continuity\n",
    "monotonic\n",
    "monotonic derivative\n",
    "saturated\n",
    "identity approx at origin"
   ]
  },
  {
   "cell_type": "code",
   "execution_count": null,
   "metadata": {
    "ExecuteTime": {
     "end_time": "2020-01-05T14:17:41.918410Z",
     "start_time": "2020-01-05T14:17:41.574367Z"
    }
   },
   "outputs": [],
   "source": [
    "%reload_ext autoreload\n",
    "%autoreload 2\n",
    "%matplotlib inline"
   ]
  },
  {
   "cell_type": "code",
   "execution_count": null,
   "metadata": {
    "ExecuteTime": {
     "end_time": "2020-01-05T14:17:42.144844Z",
     "start_time": "2020-01-05T14:17:41.919983Z"
    }
   },
   "outputs": [],
   "source": [
    "import math\n",
    "import warnings\n",
    "import torch\n",
    "import torch.nn as nn\n",
    "import torch.nn.functional as F\n",
    "import torch.optim as optim\n",
    "\n",
    "import matplotlib.pyplot as plt\n",
    "\n",
    "plt.rcParams['figure.figsize'] = [10, 5]"
   ]
  },
  {
   "cell_type": "code",
   "execution_count": null,
   "metadata": {
    "ExecuteTime": {
     "end_time": "2020-01-05T14:17:42.160365Z",
     "start_time": "2020-01-05T14:17:42.146701Z"
    }
   },
   "outputs": [],
   "source": [
    "def step(x):\n",
    "    y = torch.ones(x.shape)\n",
    "    y[torch.where(x < 0)] = -1\n",
    "    return y\n",
    "\n",
    "def swish(x, beta=1):\n",
    "    return x * torch.sigmoid(beta * x)\n",
    "\n",
    "def mish(x):\n",
    "    return x * torch.tanh(F.softplus(x))"
   ]
  },
  {
   "cell_type": "markdown",
   "metadata": {},
   "source": [
    "## Normalized input"
   ]
  },
  {
   "cell_type": "code",
   "execution_count": null,
   "metadata": {
    "ExecuteTime": {
     "end_time": "2020-01-05T14:17:42.186113Z",
     "start_time": "2020-01-05T14:17:42.162230Z"
    }
   },
   "outputs": [],
   "source": [
    "def investigate_act(fn, val_range, step=0.1, nb_samples=10000, title=None):\n",
    "    fig, (ax1, ax2, ax3) = plt.subplots(1, 3)\n",
    "    x_range = torch.arange(*val_range, step, requires_grad=True)\n",
    "    x = torch.randn(nb_samples)\n",
    "    ax1.hist(x, 100, alpha=0.5)\n",
    "    ax1_label = f'(mean, std): ({x.mean():.5}, {x.std():.5})'\n",
    "\n",
    "    _y = fn(x_range)\n",
    "    ax2.plot(x_range.detach().numpy(), _y.detach().numpy())\n",
    "    # Get derivative\n",
    "    try:\n",
    "        _y.sum().backward()\n",
    "        ax2.plot(x_range.detach().numpy(), x_range.grad.detach().numpy())\n",
    "    except:\n",
    "        warnings.warn('Non-defined derivative')\n",
    "    \n",
    "    y = fn(x)\n",
    "    ax3.hist(y, 100, alpha=0.5)\n",
    "    ax3_label = f'(mean, std): ({y.mean():.5}, {y.std():.5})'\n",
    "    \n",
    "    try:\n",
    "        grad_x = torch.randn(nb_samples, requires_grad=True)\n",
    "        grad_y = fn(grad_x)\n",
    "        grad_y.sum().backward()\n",
    "        ax3.hist(grad_x.detach().numpy(), 100, alpha=0.5)\n",
    "        ax1.hist(grad_x.grad.detach().numpy(), 100, alpha=0.5)\n",
    "        ax1_label += f'\\n(mean, std): {grad_x.grad.mean().item():.5}, {grad_x.grad.std().item():.5})'\n",
    "        ax3_label += f'\\n(mean, std): {grad_y.grad.mean().item():.5}, {grad_y.grad.std().item():.5})'\n",
    "    except Exception as e:\n",
    "        warnings.warn('Non-defined derivative')\n",
    "        print(e)\n",
    "    \n",
    "    ax1.title.set_text(f'Input distribution\\n(samples: {nb_samples})')\n",
    "    ax1.set_xlabel(ax1_label)\n",
    "    ax1.legend(['Activation inflow', 'Gradient outflow'])\n",
    "    \n",
    "    ax2.title.set_text('Activation')\n",
    "    ax2.legend(['Value', 'Derivative'])\n",
    "    \n",
    "    ax3.title.set_text(f'Output distribution\\n(samples: {nb_samples})')\n",
    "    ax3.set_xlabel(ax3_label)\n",
    "    ax3.legend(['Output activation', 'Gradient inflow'])\n",
    "    \n",
    "    \n",
    "    if isinstance(title, str):\n",
    "        fig.suptitle(title, fontsize='xx-large', weight='bold')"
   ]
  },
  {
   "cell_type": "code",
   "execution_count": null,
   "metadata": {
    "ExecuteTime": {
     "end_time": "2020-01-05T14:17:42.201426Z",
     "start_time": "2020-01-05T14:17:42.187676Z"
    }
   },
   "outputs": [],
   "source": [
    "plt.rcParams['figure.figsize'] = [15, 5]"
   ]
  },
  {
   "cell_type": "code",
   "execution_count": null,
   "metadata": {
    "ExecuteTime": {
     "end_time": "2020-01-05T14:17:56.631981Z",
     "start_time": "2020-01-05T14:17:42.205069Z"
    }
   },
   "outputs": [],
   "source": [
    "act_fns = [('Step', step), ('Sigmoid', torch.sigmoid), ('Tanh', torch.tanh), ('Hard tanh', F.hardtanh),\n",
    "           ('ReLU', F.relu), ('Leaky ReLU', F.leaky_relu), ('eLU', F.elu), ('SeLU', F.selu),\n",
    "           ('CeLU', F.celu), ('Softplus', F.softplus), ('Swish', swish), ('Mish', mish)]\n",
    "\n",
    "for n, fn in act_fns:\n",
    "    investigate_act(fn, (-5, 5), title=n)\n",
    "    plt.show()"
   ]
  },
  {
   "cell_type": "markdown",
   "metadata": {
    "ExecuteTime": {
     "end_time": "2020-01-05T12:02:09.237343Z",
     "start_time": "2020-01-05T12:02:09.206484Z"
    }
   },
   "source": [
    "## Evaluating activations\n",
    "Few criterias:\n",
    "- non-linear\n",
    "- saturation\n",
    "- zero-centered\n",
    "- monotonic\n",
    "- order of continuity\n",
    "- identity approx at origin\n",
    "- computation"
   ]
  },
  {
   "cell_type": "code",
   "execution_count": null,
   "metadata": {
    "ExecuteTime": {
     "end_time": "2020-01-05T14:17:56.650149Z",
     "start_time": "2020-01-05T14:17:56.634062Z"
    }
   },
   "outputs": [],
   "source": [
    "class Activation(nn.Module):\n",
    "    \n",
    "    def __init__(self, act_fn):\n",
    "        super().__init__()\n",
    "        self.act_fn = act_fn\n",
    "    \n",
    "    def forward(self, x):\n",
    "        return self.act_fn(x)\n",
    "\n",
    "\n",
    "def seq_model(fc_nodes, act_fn):\n",
    "    layers = []\n",
    "    for idx, nodes in enumerate(fc_nodes[1:]):\n",
    "        layers.extend([nn.Linear(fc_nodes[idx], nodes), Activation(act_fn)])\n",
    "    \n",
    "    return nn.Sequential(*layers)"
   ]
  },
  {
   "cell_type": "code",
   "execution_count": null,
   "metadata": {
    "ExecuteTime": {
     "end_time": "2020-01-05T14:17:56.661614Z",
     "start_time": "2020-01-05T14:17:56.651436Z"
    }
   },
   "outputs": [],
   "source": [
    "in_nodes, out_nodes = 512, 32"
   ]
  },
  {
   "cell_type": "code",
   "execution_count": null,
   "metadata": {
    "ExecuteTime": {
     "end_time": "2020-01-05T14:17:56.676674Z",
     "start_time": "2020-01-05T14:17:56.663371Z"
    }
   },
   "outputs": [],
   "source": [
    "def group_sum(x, fn, group_size=16):\n",
    "    target = torch.empty(math.ceil(x.shape[0] / group_size))\n",
    "    for idx in range(out_nodes):\n",
    "        target[idx] = fn(x[16 * idx: min(16 * (idx+2), x.shape[0])].sum())\n",
    "    return target\n"
   ]
  },
  {
   "cell_type": "code",
   "execution_count": null,
   "metadata": {
    "ExecuteTime": {
     "end_time": "2020-01-05T14:17:56.687680Z",
     "start_time": "2020-01-05T14:17:56.678244Z"
    }
   },
   "outputs": [],
   "source": [
    "epochs = 10\n",
    "ds_size = 32000\n",
    "val_size = 8000\n",
    "bs = 32\n",
    "lr = 5e-4"
   ]
  },
  {
   "cell_type": "code",
   "execution_count": null,
   "metadata": {
    "ExecuteTime": {
     "end_time": "2020-01-05T14:17:56.705257Z",
     "start_time": "2020-01-05T14:17:56.689046Z"
    }
   },
   "outputs": [],
   "source": [
    "def train(model, epochs, ds_size, val_size, bs, criterion, optimizer):\n",
    "    losses = []\n",
    "\n",
    "    for epoch in range(epochs):\n",
    "        tot_loss = 0\n",
    "        model.train()\n",
    "        for _ in range(ds_size // bs):\n",
    "            input_t = torch.randn(in_nodes)\n",
    "            target = group_sum(input_t, math.sin, group_size=in_nodes//out_nodes)\n",
    "            input_t, target = input_t.cuda(), target.cuda()\n",
    "            out = model(input_t)\n",
    "            batch_loss = criterion(out, target)\n",
    "\n",
    "            optimizer.zero_grad()\n",
    "            batch_loss.backward()\n",
    "            optimizer.step()\n",
    "\n",
    "            tot_loss += batch_loss.item()\n",
    "\n",
    "        model.eval()\n",
    "        val_loss = 0\n",
    "        with torch.no_grad():\n",
    "            for _ in range(val_size // bs):\n",
    "                input_t = torch.randn(in_nodes)\n",
    "                target = group_sum(input_t, math.sin, group_size=in_nodes//out_nodes)\n",
    "                input_t, target = input_t.cuda(), target.cuda()\n",
    "                out = model(input_t)\n",
    "                batch_loss = criterion(out, target)\n",
    "                val_loss += batch_loss.item()\n",
    "        losses.append(val_loss/(val_size // bs))\n",
    "        # print(f\"Epoch {epoch+1}/{epochs} - Loss: {tot_loss/(ds_size // bs):.5} - Val: {val_loss/(val_size // bs):.5}\")\n",
    "\n",
    "    plt.plot(range(len(losses)), losses)\n",
    "    plt.show()"
   ]
  },
  {
   "cell_type": "code",
   "execution_count": null,
   "metadata": {
    "ExecuteTime": {
     "end_time": "2020-01-05T14:18:00.138470Z",
     "start_time": "2020-01-05T14:17:56.706983Z"
    }
   },
   "outputs": [],
   "source": [
    "criterion = nn.MSELoss()\n",
    "model = seq_model([in_nodes, 256, out_nodes], torch.sigmoid).train().cuda()\n",
    "optimizer = optim.Adam(model.parameters(), lr=lr, momentum=0.9)\n",
    "train(model, epochs, ds_size, val_size, bs, criterion, optimizer)"
   ]
  },
  {
   "cell_type": "code",
   "execution_count": null,
   "metadata": {
    "ExecuteTime": {
     "end_time": "2020-01-05T14:18:00.224759Z",
     "start_time": "2020-01-05T14:17:41.621Z"
    }
   },
   "outputs": [],
   "source": [
    "criterion = nn.MSELoss()\n",
    "model = seq_model([in_nodes, 256, out_nodes], nn.functional.relu).train().cuda()\n",
    "optimizer = optim.Adam(model.parameters(), lr=lr)\n",
    "train(model, epochs, ds_size, val_size, bs, criterion, optimizer)"
   ]
  },
  {
   "cell_type": "code",
   "execution_count": null,
   "metadata": {},
   "outputs": [],
   "source": [
    "def exp1(x):\n",
    "    return x * leaky_relu(0.5*x+1.7)/3\n",
    "\n",
    "def exp2(x):\n",
    "    \n",
    "    return 0.2 * x * (3 + 2 * relu(x))"
   ]
  }
 ],
 "metadata": {
  "kernelspec": {
   "display_name": "Python 3 (ipykernel)",
   "language": "python",
   "name": "python3"
  },
  "language_info": {
   "codemirror_mode": {
    "name": "ipython",
    "version": 3
   },
   "file_extension": ".py",
   "mimetype": "text/x-python",
   "name": "python",
   "nbconvert_exporter": "python",
   "pygments_lexer": "ipython3",
   "version": "3.8.13"
  },
  "varInspector": {
   "cols": {
    "lenName": 16,
    "lenType": 16,
    "lenVar": 40
   },
   "kernels_config": {
    "python": {
     "delete_cmd_postfix": "",
     "delete_cmd_prefix": "del ",
     "library": "var_list.py",
     "varRefreshCmd": "print(var_dic_list())"
    },
    "r": {
     "delete_cmd_postfix": ") ",
     "delete_cmd_prefix": "rm(",
     "library": "var_list.r",
     "varRefreshCmd": "cat(var_dic_list()) "
    }
   },
   "types_to_exclude": [
    "module",
    "function",
    "builtin_function_or_method",
    "instance",
    "_Feature"
   ],
   "window_display": false
  }
 },
 "nbformat": 4,
 "nbformat_minor": 2
}
